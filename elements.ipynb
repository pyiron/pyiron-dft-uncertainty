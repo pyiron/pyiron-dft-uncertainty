{
 "cells": [
  {
   "cell_type": "markdown",
   "id": "0b639339",
   "metadata": {},
   "source": [
    "# Import Modules "
   ]
  },
  {
   "cell_type": "code",
   "execution_count": 1,
   "id": "d3baa668",
   "metadata": {},
   "outputs": [],
   "source": [
    "import seaborn as sns\n",
    "sns.set()\n",
    "sns.set_style(style='white') \n",
    "sns.set_style(\"ticks\", {\"xtick.major.size\": 8, \"ytick.major.size\": 8})"
   ]
  },
  {
   "cell_type": "code",
   "execution_count": 2,
   "id": "01d5c428",
   "metadata": {},
   "outputs": [],
   "source": [
    "import os\n",
    "import string\n",
    "import pandas\n",
    "import matplotlib.pyplot as plt\n",
    "import matplotlib.cm as cm\n",
    "import matplotlib.colors as mcolors\n",
    "import numpy as np"
   ]
  },
  {
   "cell_type": "code",
   "execution_count": 3,
   "id": "4c560d52",
   "metadata": {},
   "outputs": [],
   "source": [
    "import warnings\n",
    "warnings.filterwarnings('ignore')"
   ]
  },
  {
   "cell_type": "code",
   "execution_count": 4,
   "id": "b96beaa2",
   "metadata": {},
   "outputs": [],
   "source": [
    "from pyiron_dft_uncertainty import collect_data, \\\n",
    "    get_line, \\\n",
    "    shift_lst, \\\n",
    "    get_delta_project_recommendation, \\\n",
    "    get_materials_project_recommendation"
   ]
  },
  {
   "cell_type": "markdown",
   "id": "3aabfc2d",
   "metadata": {},
   "source": [
    "# Loading precalculated data "
   ]
  },
  {
   "cell_type": "code",
   "execution_count": 5,
   "id": "2c64495e",
   "metadata": {},
   "outputs": [],
   "source": [
    "data_path = \"pyiron/data/elements/\""
   ]
  },
  {
   "cell_type": "code",
   "execution_count": 6,
   "id": "0c1d826d",
   "metadata": {},
   "outputs": [],
   "source": [
    "file_lst = []\n",
    "for f in os.listdir(data_path):\n",
    "    if \"2.csv\" in f and \"pre\" not in f:\n",
    "        file_lst.append(f)\n",
    "file_lst = sorted(file_lst)"
   ]
  },
  {
   "cell_type": "code",
   "execution_count": 7,
   "id": "07f9f2bf",
   "metadata": {},
   "outputs": [
    {
     "data": {
      "text/plain": [
       "array([ 200.,  220.,  240.,  260.,  280.,  300.,  320.,  340.,  360.,\n",
       "        380.,  400.,  420.,  440.,  460.,  480.,  500.,  520.,  540.,\n",
       "        560.,  580.,  600.,  620.,  640.,  660.,  680.,  700.,  720.,\n",
       "        740.,  760.,  780.,  800.,  820.,  840.,  860.,  880.,  900.,\n",
       "        920.,  940.,  960.,  980., 1000., 1020., 1040., 1060., 1080.,\n",
       "       1100., 1120., 1140., 1160., 1180., 1200.])"
      ]
     },
     "execution_count": 7,
     "metadata": {},
     "output_type": "execute_result"
    }
   ],
   "source": [
    "encut_space = np.linspace(200, 1200, 51)\n",
    "encut_space"
   ]
  },
  {
   "cell_type": "code",
   "execution_count": 8,
   "id": "210e2fc9",
   "metadata": {},
   "outputs": [
    {
     "data": {
      "text/plain": [
       "array([ 3.,  5.,  7.,  9., 11., 13., 15., 17., 19., 21., 23., 25., 27.,\n",
       "       29., 31., 33., 35., 37., 39., 41., 43., 45., 47., 49., 51., 53.,\n",
       "       55., 57., 59., 61., 63., 65., 67., 69., 71., 73., 75., 77., 79.,\n",
       "       81., 83., 85., 87., 89., 91.])"
      ]
     },
     "execution_count": 8,
     "metadata": {},
     "output_type": "execute_result"
    }
   ],
   "source": [
    "kpoint_space = np.linspace(3, 91, 45)  # This has to be updated \n",
    "kpoint_space"
   ]
  },
  {
   "cell_type": "code",
   "execution_count": 9,
   "id": "d93ebdd8",
   "metadata": {},
   "outputs": [
    {
     "data": {
      "text/plain": [
       "['Ag', 'Al', 'Au', 'Ca', 'Cu', 'Ir', 'Pb', 'Pd', 'Pt']"
      ]
     },
     "execution_count": 9,
     "metadata": {},
     "output_type": "execute_result"
    }
   ],
   "source": [
    "element_lst = [f.split(\"_\")[0] for f in file_lst]\n",
    "element_lst"
   ]
  },
  {
   "cell_type": "code",
   "execution_count": 10,
   "id": "39902ca8",
   "metadata": {},
   "outputs": [],
   "source": [
    "kpoint_mesh, encut_mesh = np.meshgrid(kpoint_space, encut_space)"
   ]
  },
  {
   "cell_type": "code",
   "execution_count": 11,
   "id": "17d10a71",
   "metadata": {},
   "outputs": [],
   "source": [
    "kpoint_low_ind = 4\n",
    "kpoint_low = kpoint_space[kpoint_low_ind]"
   ]
  },
  {
   "cell_type": "code",
   "execution_count": 12,
   "id": "d32fd6cd",
   "metadata": {},
   "outputs": [
    {
     "data": {
      "text/plain": [
       "['Ag_pre_vasp.csv',\n",
       " 'Al_pre_vasp.csv',\n",
       " 'Au_pre_vasp.csv',\n",
       " 'Ca_pre_vasp.csv',\n",
       " 'Cu_pre_vasp.csv',\n",
       " 'Ir_pre_vasp.csv',\n",
       " 'Pb_pre_vasp.csv',\n",
       " 'Pd_pre_vasp.csv',\n",
       " 'Pt_pre_vasp.csv']"
      ]
     },
     "execution_count": 12,
     "metadata": {},
     "output_type": "execute_result"
    }
   ],
   "source": [
    "file_pre_lst = [f.split(\"_\")[0] + \"_pre_vasp.csv\" for f in file_lst]\n",
    "file_pre_lst"
   ]
  },
  {
   "cell_type": "markdown",
   "id": "461b30ba",
   "metadata": {},
   "source": [
    "# Initialize Method"
   ]
  },
  {
   "cell_type": "code",
   "execution_count": 13,
   "id": "f833a62b",
   "metadata": {},
   "outputs": [],
   "source": [
    "degree = 11"
   ]
  },
  {
   "cell_type": "code",
   "execution_count": 14,
   "id": "f3d43a12",
   "metadata": {},
   "outputs": [],
   "source": [
    "uncertainty_parameter = {\n",
    "    # Energy volume curve settings \n",
    "    'points': 21,\n",
    "    'vol_range': 0.1\n",
    "}"
   ]
  },
  {
   "cell_type": "code",
   "execution_count": 15,
   "id": "57e6ff98",
   "metadata": {},
   "outputs": [
    {
     "name": "stdout",
     "output_type": "stream",
     "text": [
      "Ag 17.8383\n",
      "Ag_sv_GW 360.0 11.0 8 4\n",
      "Al 16.4568\n",
      "Al_GW 260.0 11.0 3 4\n",
      "Au 17.9783\n",
      "Au_sv_GW 320.0 11.0 6 4\n",
      "Ca 42.1356\n",
      "Ca_sv_GW 300.0 11.0 5 4\n",
      "Cu 11.9876\n",
      "Cu_sv_GW 400.0 11.0 10 4\n",
      "Ir 14.4888\n",
      "Ir_sv_GW 320.0 11.0 6 4\n",
      "Pb 32.0009\n",
      "Pb_d 240.0 11.0 2 4\n",
      "Pd 15.3085\n",
      "Pd_sv_GW 360.0 11.0 8 4\n",
      "Pt 15.6393\n",
      "Pt_sv_GW 340.0 11.0 7 4\n"
     ]
    }
   ],
   "source": [
    "b0_stat_total_lst_lst, b0_approx_diff_mat_lst, b0_final_lst, b0_approx_diff_mat_ns_lst, b0_sys_total_lst_lst, encut_low_lst = [], [], [], [], [], []\n",
    "for file_pre, file, el in zip(file_pre_lst, file_lst, element_lst):\n",
    "    encut_low, b0_stat_total_lst, b0_sys_total_lst, b0_approx_diff_mat, b0_approx_diff_mat_ns = collect_data(\n",
    "        file_pre=file_pre, \n",
    "        file=file, \n",
    "        el=el,\n",
    "        encut_space=encut_space, \n",
    "        kpoint_space=kpoint_space,\n",
    "        uncertainty_parameter=uncertainty_parameter,\n",
    "        degree=degree,\n",
    "        data_path=data_path\n",
    "    )\n",
    "    encut_low_lst.append(encut_low)\n",
    "    b0_stat_total_lst_lst.append(b0_stat_total_lst)\n",
    "    b0_sys_total_lst_lst.append(b0_sys_total_lst)\n",
    "    b0_approx_diff_mat_lst.append(b0_approx_diff_mat)\n",
    "    b0_approx_diff_mat_ns_lst.append(b0_approx_diff_mat_ns)\n",
    "    b0_final_lst.append(np.array(b0_sys_total_lst)[-1, -1])"
   ]
  },
  {
   "cell_type": "markdown",
   "id": "af67365c",
   "metadata": {},
   "source": [
    "# Prediction"
   ]
  },
  {
   "cell_type": "code",
   "execution_count": 16,
   "id": "8c9994c6",
   "metadata": {},
   "outputs": [],
   "source": [
    "b0_level_abs_lst = [5, 1, 0.5, 0.1]\n",
    "line_style_lst = [\"-\", \"--\", \":\", \"-.\"]"
   ]
  },
  {
   "cell_type": "code",
   "execution_count": 17,
   "id": "7723ac54",
   "metadata": {},
   "outputs": [],
   "source": [
    "rows_count, columns_count = 3, 3"
   ]
  },
  {
   "cell_type": "code",
   "execution_count": 18,
   "id": "8f8db8d8",
   "metadata": {},
   "outputs": [],
   "source": [
    "ind_lst = []\n",
    "for i in range(rows_count):\n",
    "    for j in range(columns_count):\n",
    "        ind_lst.append([i, j])"
   ]
  },
  {
   "cell_type": "code",
   "execution_count": 19,
   "id": "2bc809e9",
   "metadata": {},
   "outputs": [],
   "source": [
    "line_lst, ind_limit_lst = [], []\n",
    "for i, [file_pre, file, el, b0_stat_total_lst, b0_approx_diff_mat, b0_final, encut_low] in enumerate(zip(file_pre_lst, file_lst, element_lst, b0_stat_total_lst_lst, b0_approx_diff_mat_lst, b0_final_lst, encut_low_lst)):\n",
    "    line_tmp_lst, ind_tmp_lst = [], []\n",
    "    for b0_level, line_style in zip(b0_level_abs_lst, line_style_lst):\n",
    "        line_data = get_line(limit=b0_level, encut_space=encut_space, mat=(b0_approx_diff_mat + np.array(b0_stat_total_lst)).T)\n",
    "        ind_test = np.argmax([(len(encut_space) - 1 - encut_space.tolist().index(l)) * (len(kpoint_space)- 1 -k) for l, k in zip(line_data, range(len(kpoint_space)))])\n",
    "        line_tmp_lst.append(line_data)\n",
    "        ind_tmp_lst.append(ind_test)\n",
    "    line_lst.append(line_tmp_lst)\n",
    "    ind_limit_lst.append(ind_tmp_lst)"
   ]
  },
  {
   "cell_type": "code",
   "execution_count": 20,
   "id": "50bfa6fe",
   "metadata": {},
   "outputs": [],
   "source": [
    "encut_el_lst, kpoint_el_lst = [], [] \n",
    "for line_tmp_lst, ind_tmp_lst in zip(line_lst, ind_limit_lst):\n",
    "    encut_tmp_lst, kpoint_tmp_lst = [], [] \n",
    "    for line_data, ind_test in zip(line_tmp_lst, ind_tmp_lst):\n",
    "        encut_tmp_lst.append(line_data[ind_test])\n",
    "        kpoint_tmp_lst.append(kpoint_space[ind_test])\n",
    "    encut_el_lst.append(encut_tmp_lst)\n",
    "    kpoint_el_lst.append(kpoint_tmp_lst)\n"
   ]
  },
  {
   "cell_type": "markdown",
   "id": "0cf4aebf",
   "metadata": {},
   "source": [
    "# Compare to Reference Data"
   ]
  },
  {
   "cell_type": "code",
   "execution_count": 21,
   "id": "1cc3e688",
   "metadata": {},
   "outputs": [],
   "source": [
    "delta = get_delta_project_recommendation()"
   ]
  },
  {
   "cell_type": "code",
   "execution_count": 22,
   "id": "3a296968",
   "metadata": {},
   "outputs": [],
   "source": [
    "mp = get_materials_project_recommendation(element_lst=element_lst, token=\"9wJlXz0bCHndCVkI\")"
   ]
  },
  {
   "cell_type": "code",
   "execution_count": 23,
   "id": "93df198d",
   "metadata": {},
   "outputs": [
    {
     "data": {
      "text/html": [
       "<div>\n",
       "<style scoped>\n",
       "    .dataframe tbody tr th:only-of-type {\n",
       "        vertical-align: middle;\n",
       "    }\n",
       "\n",
       "    .dataframe tbody tr th {\n",
       "        vertical-align: top;\n",
       "    }\n",
       "\n",
       "    .dataframe thead th {\n",
       "        text-align: right;\n",
       "    }\n",
       "</style>\n",
       "<table border=\"1\" class=\"dataframe\">\n",
       "  <thead>\n",
       "    <tr style=\"text-align: right;\">\n",
       "      <th></th>\n",
       "      <th>element</th>\n",
       "      <th>encut_5GPa</th>\n",
       "      <th>kpoint_5GPa</th>\n",
       "      <th>encut_1GPa</th>\n",
       "      <th>kpoint_1GPa</th>\n",
       "      <th>encut_0.5GPa</th>\n",
       "      <th>kpoint_0.5GPa</th>\n",
       "      <th>encut_0.1GPa</th>\n",
       "      <th>kpoint_0.1GPa</th>\n",
       "    </tr>\n",
       "  </thead>\n",
       "  <tbody>\n",
       "    <tr>\n",
       "      <th>0</th>\n",
       "      <td>Ag</td>\n",
       "      <td>380.0</td>\n",
       "      <td>11.0</td>\n",
       "      <td>560.0</td>\n",
       "      <td>25.0</td>\n",
       "      <td>640.0</td>\n",
       "      <td>25.0</td>\n",
       "      <td>1160.0</td>\n",
       "      <td>65.0</td>\n",
       "    </tr>\n",
       "    <tr>\n",
       "      <th>1</th>\n",
       "      <td>Al</td>\n",
       "      <td>200.0</td>\n",
       "      <td>9.0</td>\n",
       "      <td>300.0</td>\n",
       "      <td>13.0</td>\n",
       "      <td>320.0</td>\n",
       "      <td>31.0</td>\n",
       "      <td>600.0</td>\n",
       "      <td>73.0</td>\n",
       "    </tr>\n",
       "    <tr>\n",
       "      <th>2</th>\n",
       "      <td>Au</td>\n",
       "      <td>320.0</td>\n",
       "      <td>15.0</td>\n",
       "      <td>500.0</td>\n",
       "      <td>23.0</td>\n",
       "      <td>560.0</td>\n",
       "      <td>25.0</td>\n",
       "      <td>1040.0</td>\n",
       "      <td>73.0</td>\n",
       "    </tr>\n",
       "    <tr>\n",
       "      <th>3</th>\n",
       "      <td>Ca</td>\n",
       "      <td>280.0</td>\n",
       "      <td>11.0</td>\n",
       "      <td>320.0</td>\n",
       "      <td>11.0</td>\n",
       "      <td>320.0</td>\n",
       "      <td>17.0</td>\n",
       "      <td>500.0</td>\n",
       "      <td>25.0</td>\n",
       "    </tr>\n",
       "    <tr>\n",
       "      <th>4</th>\n",
       "      <td>Cu</td>\n",
       "      <td>460.0</td>\n",
       "      <td>15.0</td>\n",
       "      <td>660.0</td>\n",
       "      <td>27.0</td>\n",
       "      <td>760.0</td>\n",
       "      <td>71.0</td>\n",
       "      <td>1180.0</td>\n",
       "      <td>75.0</td>\n",
       "    </tr>\n",
       "    <tr>\n",
       "      <th>5</th>\n",
       "      <td>Ir</td>\n",
       "      <td>380.0</td>\n",
       "      <td>13.0</td>\n",
       "      <td>540.0</td>\n",
       "      <td>19.0</td>\n",
       "      <td>640.0</td>\n",
       "      <td>19.0</td>\n",
       "      <td>760.0</td>\n",
       "      <td>31.0</td>\n",
       "    </tr>\n",
       "    <tr>\n",
       "      <th>6</th>\n",
       "      <td>Pb</td>\n",
       "      <td>240.0</td>\n",
       "      <td>7.0</td>\n",
       "      <td>260.0</td>\n",
       "      <td>15.0</td>\n",
       "      <td>260.0</td>\n",
       "      <td>21.0</td>\n",
       "      <td>800.0</td>\n",
       "      <td>39.0</td>\n",
       "    </tr>\n",
       "    <tr>\n",
       "      <th>7</th>\n",
       "      <td>Pd</td>\n",
       "      <td>400.0</td>\n",
       "      <td>11.0</td>\n",
       "      <td>580.0</td>\n",
       "      <td>19.0</td>\n",
       "      <td>620.0</td>\n",
       "      <td>27.0</td>\n",
       "      <td>1140.0</td>\n",
       "      <td>63.0</td>\n",
       "    </tr>\n",
       "    <tr>\n",
       "      <th>8</th>\n",
       "      <td>Pt</td>\n",
       "      <td>380.0</td>\n",
       "      <td>15.0</td>\n",
       "      <td>520.0</td>\n",
       "      <td>23.0</td>\n",
       "      <td>600.0</td>\n",
       "      <td>23.0</td>\n",
       "      <td>800.0</td>\n",
       "      <td>41.0</td>\n",
       "    </tr>\n",
       "  </tbody>\n",
       "</table>\n",
       "</div>"
      ],
      "text/plain": [
       "  element  encut_5GPa  kpoint_5GPa  encut_1GPa  kpoint_1GPa  encut_0.5GPa  \\\n",
       "0      Ag       380.0         11.0       560.0         25.0         640.0   \n",
       "1      Al       200.0          9.0       300.0         13.0         320.0   \n",
       "2      Au       320.0         15.0       500.0         23.0         560.0   \n",
       "3      Ca       280.0         11.0       320.0         11.0         320.0   \n",
       "4      Cu       460.0         15.0       660.0         27.0         760.0   \n",
       "5      Ir       380.0         13.0       540.0         19.0         640.0   \n",
       "6      Pb       240.0          7.0       260.0         15.0         260.0   \n",
       "7      Pd       400.0         11.0       580.0         19.0         620.0   \n",
       "8      Pt       380.0         15.0       520.0         23.0         600.0   \n",
       "\n",
       "   kpoint_0.5GPa  encut_0.1GPa  kpoint_0.1GPa  \n",
       "0           25.0        1160.0           65.0  \n",
       "1           31.0         600.0           73.0  \n",
       "2           25.0        1040.0           73.0  \n",
       "3           17.0         500.0           25.0  \n",
       "4           71.0        1180.0           75.0  \n",
       "5           19.0         760.0           31.0  \n",
       "6           21.0         800.0           39.0  \n",
       "7           27.0        1140.0           63.0  \n",
       "8           23.0         800.0           41.0  "
      ]
     },
     "execution_count": 23,
     "metadata": {},
     "output_type": "execute_result"
    }
   ],
   "source": [
    "pandas.DataFrame({\n",
    "    \"element\": element_lst, \n",
    "    \"encut_5GPa\": np.array(encut_el_lst)[:,0],\n",
    "    \"kpoint_5GPa\": np.array(kpoint_el_lst)[:,0],\n",
    "    \"encut_1GPa\": np.array(encut_el_lst)[:,1],\n",
    "    \"kpoint_1GPa\": np.array(kpoint_el_lst)[:,1],\n",
    "    \"encut_0.5GPa\": np.array(encut_el_lst)[:,2],\n",
    "    \"kpoint_0.5GPa\": np.array(kpoint_el_lst)[:,2],\n",
    "    \"encut_0.1GPa\": np.array(encut_el_lst)[:,3],\n",
    "    \"kpoint_0.1GPa\": np.array(kpoint_el_lst)[:,3],\n",
    "})"
   ]
  },
  {
   "cell_type": "markdown",
   "id": "1e2ab7d1",
   "metadata": {},
   "source": [
    "# Plot"
   ]
  },
  {
   "cell_type": "code",
   "execution_count": 24,
   "id": "eda6dee4",
   "metadata": {},
   "outputs": [],
   "source": [
    "element_ind_lst = [element_lst.index(els) for els in [\"Ca\", \"Al\", \"Cu\", \"Pb\", \"Pd\", \"Ag\", \"Ir\", \"Pt\", \"Au\"]]"
   ]
  },
  {
   "cell_type": "code",
   "execution_count": 25,
   "id": "0dd7308d",
   "metadata": {},
   "outputs": [],
   "source": [
    "levels = [0.001, 0.005, 0.01, 0.05, 0.1, 0.5, 1, 5, 10, 50, 100]"
   ]
  },
  {
   "cell_type": "code",
   "execution_count": 26,
   "id": "52dde8ed",
   "metadata": {},
   "outputs": [],
   "source": [
    "cmap = cm.get_cmap('Spectral').reversed()"
   ]
  },
  {
   "cell_type": "code",
   "execution_count": 27,
   "id": "d1ef9d93",
   "metadata": {},
   "outputs": [
    {
     "data": {
      "image/png": "[encoded data removed]",
      "text/plain": [
       "<Figure size 432x432 with 10 Axes>"
      ]
     },
     "metadata": {},
     "output_type": "display_data"
    }
   ],
   "source": [
    "f, axs = plt.subplots(rows_count, columns_count, figsize=(6,6))\n",
    "for n, ax in enumerate(axs.flatten()):\n",
    "    ax.text(-0.0, 1.04, string.ascii_lowercase[n] + \")\", transform=ax.transAxes, size=16)\n",
    "\n",
    "for i, [file_pre, file, el, b0_stat_total_lst, b0_approx_diff_mat, b0_final, encut_low, line_tmp_lst, ind_tmp_lst] in enumerate(\n",
    "    zip(np.array(file_pre_lst)[element_ind_lst], np.array(file_lst)[element_ind_lst], np.array(element_lst)[element_ind_lst], np.array(b0_stat_total_lst_lst)[element_ind_lst], np.array(b0_approx_diff_mat_lst)[element_ind_lst], np.array(b0_final_lst)[element_ind_lst], np.array(encut_low_lst)[element_ind_lst], np.array(line_lst)[element_ind_lst], np.array(ind_limit_lst)[element_ind_lst])\n",
    "):\n",
    "    axs[ind_lst[i][0], ind_lst[i][1]].set_title(el + \" - \" + str(np.round(b0_final, 1)) + \" GPa\")\n",
    "    mappable = axs[ind_lst[i][0], ind_lst[i][1]].contourf(kpoint_mesh, encut_mesh, b0_approx_diff_mat + np.array(b0_stat_total_lst), vmin=np.min(levels), vmax=np.max(levels), levels=levels, norm=mcolors.LogNorm(), cmap=\"viridis\")\n",
    "    \n",
    "    encut_opt_lst = [np.max(encut_space[sys<stat]) if sum(np.abs(sys)<stat) > 0 else np.min(encut_space)*1.02 for sys, stat in zip(b0_approx_diff_mat.T, np.array(b0_stat_total_lst).T)]\n",
    "    axs[ind_lst[i][0], ind_lst[i][1]].plot(kpoint_space[:-1], shift_lst(np.array(encut_opt_lst[:-1])), \"-\", color=\"grey\")\n",
    "    \n",
    "    for b0_level, line_style, line_data, ind_test in zip(b0_level_abs_lst, line_style_lst, line_tmp_lst, ind_tmp_lst):\n",
    "        axs[ind_lst[i][0], ind_lst[i][1]].plot(kpoint_space, line_data, line_style, color=\"red\", label=str(b0_level) + \" GPa\")    \n",
    "    \n",
    "    axs[ind_lst[i][0], ind_lst[i][1]].plot([kpoint_low], [encut_low], \"s\", markersize=8, color=\"C0\")\n",
    "    axs[ind_lst[i][0], ind_lst[i][1]].plot([(mp[mp.element == el].kpoint.values[0] ** 3 * 4) ** (1/3)], [mp[mp.element == el].encut.values[0]], \"s\", markersize=8, color=\"C1\")\n",
    "    axs[ind_lst[i][0], ind_lst[i][1]].plot([(delta[delta.element == el].kpoint.values[0] ** 3 * 4) ** (1/3)], [delta[delta.element == el].encut.values[0]], \"s\", markersize=8, color=\"C4\")\n",
    "    \n",
    "    if ind_lst[i][0] == 2:\n",
    "        axs[ind_lst[i][0], ind_lst[i][1]].set_xlabel(\"Kpoint Mesh ($\\kappa$)\")\n",
    "    else: \n",
    "        axs[ind_lst[i][0], ind_lst[i][1]].tick_params(axis='x', which='both', bottom=False, top=False, labelbottom=False)\n",
    "    if ind_lst[i][1] == 0:\n",
    "        axs[ind_lst[i][0], ind_lst[i][1]].set_ylabel(\"EnCut ($\\epsilon$ in eV)\")\n",
    "    else:\n",
    "        axs[ind_lst[i][0], ind_lst[i][1]].tick_params(axis='y', which='both', right=False, left=False, labelleft=False)\n",
    "    if i == 0:\n",
    "        axs[ind_lst[i][0], ind_lst[i][1]].legend(labelcolor='white', frameon=False, bbox_to_anchor=(0.06, 0.45, 1., .102))\n",
    "        \n",
    "cbar_ax = f.add_axes([1.01, 0.33, 0.02, 0.35])\n",
    "cbar = plt.colorbar(mappable, cax=cbar_ax)\n",
    "cbar.ax.set_title(\"       $\\Delta B_{0} (GPa)$\")\n",
    "plt.subplots_adjust(\n",
    "    left=0.,\n",
    "    bottom=0., \n",
    "    right=0.975, \n",
    "    top=1.0, \n",
    "    wspace=0.05, \n",
    "    hspace=0.15\n",
    ")"
   ]
  },
  {
   "cell_type": "code",
   "execution_count": null,
   "id": "c4bc5365",
   "metadata": {},
   "outputs": [],
   "source": []
  }
 ],
 "metadata": {
  "kernelspec": {
   "display_name": "Python 3 (ipykernel)",
   "language": "python",
   "name": "python3"
  },
  "language_info": {
   "codemirror_mode": {
    "name": "ipython",
    "version": 3
   },
   "file_extension": ".py",
   "mimetype": "text/x-python",
   "name": "python",
   "nbconvert_exporter": "python",
   "pygments_lexer": "ipython3",
   "version": "3.9.7"
  }
 },
 "nbformat": 4,
 "nbformat_minor": 5
}
